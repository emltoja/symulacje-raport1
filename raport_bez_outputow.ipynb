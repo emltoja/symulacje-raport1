{
 "cells": [
  {
   "attachments": {},
   "cell_type": "markdown",
   "metadata": {},
   "source": [
    "# Raport nr 1, Symulacje komputerowe"
   ]
  },
  {
   "attachments": {},
   "cell_type": "markdown",
   "metadata": {},
   "source": [
    "###  Emil Olszewski, Artur Sadurski  \n",
    "---  "
   ]
  },
  {
   "cell_type": "code",
   "execution_count": null,
   "metadata": {},
   "outputs": [],
   "source": [
    "using Plots\n",
    "using Distributions\n",
    "using HypothesisTests\n",
    "using BenchmarkTools\n",
    "using BenchmarkPlots\n",
    "using Statistics\n",
    "using StatsPlots\n",
    "using KernelDensity\n",
    "using SpecialFunctions\n",
    "using LinearAlgebra"
   ]
  },
  {
   "attachments": {},
   "cell_type": "markdown",
   "metadata": {},
   "source": [
    "**Zadanie 1**  \n",
    "Generator liczb pseudolosowych"
   ]
  },
  {
   "attachments": {},
   "cell_type": "markdown",
   "metadata": {},
   "source": [
    "Poniżej znajduje się implementacja generatora MRG32k3a liczb pseudolosowych z rozkładu jednostajnego na odcinku [0, 1]"
   ]
  },
  {
   "cell_type": "code",
   "execution_count": null,
   "metadata": {},
   "outputs": [],
   "source": [
    "function MRG32k3a(\n",
    "    size, \n",
    "    seedx = [1822406609, 1153072917, 1254937013], \n",
    "    seedy = [2311980605, 7239483046, 2394024690]\n",
    "    )\n",
    "\n",
    "    result = Vector{Float64}(undef, size)\n",
    "\n",
    "    m1 = 2^32 - 209\n",
    "    m2 = 2^32 - 22853\n",
    "\n",
    "    for i in 1:size\n",
    "\n",
    "        x = mod((1403580seedx[2] - 810728seedx[3]), m1)\n",
    "        y = mod((527612seedy[1] - 1370589seedy[3]), m2)\n",
    "\n",
    "        result[i] = ifelse(x > y, (x - y) / (m1 + 1), (x - y + m1) / (m1 + 1))\n",
    "\n",
    "        # Do generowania realizacji zmiennej losowej potrzebujemy tylko 3 ostatnich \n",
    "        # wartości x i y. Tym samym seedx i seedy możemy traktować jako kolejkę, w\n",
    "        # każdej iteracji odrzucając wartości z końca i dodanjąc nowo obliczone \n",
    "        # wartości do początku. \n",
    "        \n",
    "        pop!(seedx); pop!(seedy)\n",
    "        pushfirst!(seedx, x); pushfirst!(seedy, y)\n",
    "\n",
    "    end\n",
    "\n",
    "    return result\n",
    "\n",
    "end"
   ]
  },
  {
   "cell_type": "code",
   "execution_count": null,
   "metadata": {},
   "outputs": [],
   "source": [
    "UNIFORM_SAMPLE_SIZE = 10_000\n",
    "mrg_samples = MRG32k3a(UNIFORM_SAMPLE_SIZE)\n",
    "scatter(mrg_samples, markersize=1, color=:dodgerblue1, legend=nothing, title=\"Realizacje algorytmu MRG32k3a\")"
   ]
  },
  {
   "attachments": {},
   "cell_type": "markdown",
   "metadata": {},
   "source": [
    "Jak widać liczby generowane przez *MRG32k3a* rozkładają się w miarę równomiernie na odcinku [0, 1]. Skłania nas to do stwierdzenia, że pochodzą one z rozkładu U(0, 1). Aby potwierdzić tą hipotezę, wykonamy histogram generowanych wartości i przeprowadzimy test Kołmogorowa-Smirnoffa."
   ]
  },
  {
   "cell_type": "code",
   "execution_count": null,
   "metadata": {},
   "outputs": [],
   "source": [
    "histogram(mrg_samples, color=:dodgerblue1, label=\"Rozkład otrzymanych wartości\", normalize=:pdf, legend=:outerbottom)\n",
    "plot!(x -> (0 < x < 1), lw=5, color=:orange, label=\"Gęstość rozkładu U(0, 1)\")"
   ]
  },
  {
   "cell_type": "code",
   "execution_count": null,
   "metadata": {},
   "outputs": [],
   "source": [
    "ExactOneSampleKSTest(mrg_samples, Uniform(0, 1))"
   ]
  },
  {
   "attachments": {},
   "cell_type": "markdown",
   "metadata": {},
   "source": [
    "Powyższy histogram dobrze obrazuje jednostajność generowanych wartości. Jednakże nie mówi nic o niezależności. Sprawdzimy teraz kilka cech, które powinny charakteryzować ciąg niezależnych zmiennych losowych. "
   ]
  },
  {
   "attachments": {},
   "cell_type": "markdown",
   "metadata": {},
   "source": [
    "* $Cov(X,Y) = 0$  \n",
    "   \n",
    "Jeśli dwie zmienne losowe są niezależne, to $$Cov(X, Y) = E(XY) - E(X)E(Y) = 0$$  \n",
    "Zauważmy, że implikacja w drugą stronę nie zachodzi, jednakże brak powyższej równości, wyklucza niezależność zmiennych."
   ]
  },
  {
   "cell_type": "code",
   "execution_count": null,
   "metadata": {},
   "outputs": [],
   "source": [
    "covariances = zeros(100)\n",
    "\n",
    "for i in 1:100\n",
    "    seedx1 = rand(Int, 3)\n",
    "    seedy1 = rand(Int, 3)\n",
    "    X = MRG32k3a(100_000, rand(Int, 3), rand(Int, 3))\n",
    "    Y = MRG32k3a(100_000, rand(Int, 3), rand(Int, 3))\n",
    "    covariances[i] = mean(X .* Y) - mean(X) * mean(Y)\n",
    "end\n",
    "\n",
    "print(\"Średnia wartość |Cov(X,Y)|: \", mean(abs.(covariances)))"
   ]
  },
  {
   "attachments": {},
   "cell_type": "markdown",
   "metadata": {},
   "source": [
    "Jak widać, średnia wartość modułu kowariancjii jest bardzo mała, co świadczy o nieskorelowaniu ciągów generowanych przez algorytm *MRG32k3a* z losowym ziarnem."
   ]
  },
  {
   "attachments": {},
   "cell_type": "markdown",
   "metadata": {},
   "source": [
    "* Rozkład zmiennej $|X - Y|$\n",
    "  \n",
    "Sprawdzimy teraz czy kolejne wartości ciągu generowanego przez algorytm są niezależne względem siebie. Jeśli następujące po sobie wartości są *iid* (independent, identically distrubuted), to rozkład $|x[i + 1] - x[i]|$ zadany jest wzorem \n",
    "\n",
    "$$ f(x) = 2\\,\\int_0^\\infty g(x + y)g(y)\\,dy = 2(1 - x) \\quad dla \\; x \\in [0,1]$$  \n",
    "\n",
    "gdzie $g(x)$ jest gęstością rozkładu jednostajnego na odcinku [0, 1].  \n",
    "Powyższe równanie wynika ze wzoru na gęstość różnicy niezależnych zmiennych losowych i gęstość odwzorowania zmiennej losowej przez funkcję mierzalną. "
   ]
  },
  {
   "cell_type": "code",
   "execution_count": null,
   "metadata": {},
   "outputs": [],
   "source": [
    "distances = [abs(mrg_samples[i + 1] - mrg_samples[i]) for i in 1:UNIFORM_SAMPLE_SIZE - 1]\n",
    "histogram(distances, color=:dodgerblue1, label=\"Odległości pomiędzy kolejnymi wartościami\", normalize=:pdf, legend=:outerbottom)\n",
    "plot!(x -> 2 * (1 - x) * (0 < x < 1), lw = 5, color=:orange, label=\"Gęstość oczekiwanego rozkładu\")"
   ]
  },
  {
   "cell_type": "code",
   "execution_count": null,
   "metadata": {},
   "outputs": [],
   "source": [
    "ExactOneSampleKSTest(distances, TriangularDist(0, 1, 0))"
   ]
  },
  {
   "attachments": {},
   "cell_type": "markdown",
   "metadata": {},
   "source": [
    "Powyższy test oraz histogram wskazują na to, że odległości pomiędzy wygenerowanymi liczbami są z rozkładu trójkątnego o parmatrach $(0, 1, 0)$. Jest to kolejna przesłanka za tym, że algorytm generuje wartości *iid*. "
   ]
  },
  {
   "attachments": {},
   "cell_type": "markdown",
   "metadata": {},
   "source": [
    "Na sam koniec porównamy wydajność naszego algorytmu do wbudowanej funkcji `rand`."
   ]
  },
  {
   "cell_type": "code",
   "execution_count": null,
   "metadata": {},
   "outputs": [],
   "source": [
    "@benchmark MRG32k3a(UNIFORM_SAMPLE_SIZE)"
   ]
  },
  {
   "cell_type": "code",
   "execution_count": null,
   "metadata": {},
   "outputs": [],
   "source": [
    "@benchmark rand(UNIFORM_SAMPLE_SIZE)"
   ]
  },
  {
   "attachments": {},
   "cell_type": "markdown",
   "metadata": {},
   "source": [
    "Nasza implementacja generatora liczb pseudolosowych jest znacznie wolniejsza od wbudowanej metody (735 mikrosekund vs. 86 mikrosekund dla próbki o długości 10 000), jednakże zużywa porównywalne zasoby pamięci."
   ]
  },
  {
   "attachments": {},
   "cell_type": "markdown",
   "metadata": {},
   "source": [
    "---"
   ]
  },
  {
   "attachments": {},
   "cell_type": "markdown",
   "metadata": {},
   "source": [
    "**Zadanie 2**\n",
    "\n",
    "Generowanie rozkładu Poissona z rozkładu geometrycznego metodą akceptacji odrzucenia. "
   ]
  },
  {
   "cell_type": "code",
   "execution_count": null,
   "metadata": {},
   "outputs": [],
   "source": [
    "poisson_param = 2\n",
    "geometric_param = 1/4"
   ]
  },
  {
   "cell_type": "code",
   "execution_count": null,
   "metadata": {},
   "outputs": [],
   "source": [
    "poisson(n, λ) = exp(-λ) * λ^n / factorial(big(n))\n",
    "geometric(n, p) = (1 - p)^n * p"
   ]
  },
  {
   "cell_type": "code",
   "execution_count": null,
   "metadata": {},
   "outputs": [],
   "source": [
    "c = maximum(poisson(n) / geometric(n) for n in 1:10)"
   ]
  },
  {
   "cell_type": "code",
   "execution_count": null,
   "metadata": {},
   "outputs": [],
   "source": [
    "function accept_reject(c_param, g_param, p_param)\n",
    "\n",
    "    dist = Geometric(g_param)\n",
    "    x = rand(dist)\n",
    "\n",
    "    while c_param * rand() * geometric(x, g_param) > poisson(x, p_param)\n",
    "        x = rand(dist)\n",
    "    end\n",
    "\n",
    "    return x\n",
    "\n",
    "end\n",
    "\n"
   ]
  },
  {
   "cell_type": "code",
   "execution_count": null,
   "metadata": {},
   "outputs": [],
   "source": [
    "function accept_reject_vectorized(size, c_param, g_param, p_param)\n",
    "\n",
    "    result = Vector{Int}(undef, size)\n",
    "    dist = Geometric(g_param)\n",
    "\n",
    "    for i in 1:size\n",
    "\n",
    "        x = rand(dist)\n",
    "        \n",
    "        while c * rand() * geometric(x, g_param) > poisson(x, p_param)\n",
    "            x = rand(dist)\n",
    "        end\n",
    "\n",
    "        result[i] = x\n",
    "\n",
    "    end\n",
    "\n",
    "    return result\n",
    "\n",
    "end"
   ]
  },
  {
   "cell_type": "code",
   "execution_count": null,
   "metadata": {},
   "outputs": [],
   "source": [
    "@benchmark [accept_reject(c, geometric_param, poisson_param) for _ in 1:10_000]"
   ]
  },
  {
   "cell_type": "code",
   "execution_count": null,
   "metadata": {},
   "outputs": [],
   "source": [
    "@benchmark accept_reject_vectorized(10_000, c, geometric_param, poisson_param)"
   ]
  },
  {
   "cell_type": "code",
   "execution_count": null,
   "metadata": {},
   "outputs": [],
   "source": [
    "poisson_samples =  accept_reject_vectorized(100_000)"
   ]
  },
  {
   "cell_type": "code",
   "execution_count": null,
   "metadata": {},
   "outputs": [],
   "source": [
    "histogram(poisson_samples, normalize=:probability, color=:dodgerblue1, label=\"Rozkład wygenerowanych wartości\", legend=:outerbottom)\n",
    "scatter!(0:10, pdf.(Poisson(poisson_param), 0:10), color=:orange, label=\"Rozkład Poissona z parametrem: $(poisson_param)\")"
   ]
  },
  {
   "attachments": {},
   "cell_type": "markdown",
   "metadata": {},
   "source": [
    "Przy przeprowadzeniu testu Kołmogorowa-Smirnova trzeba mieć na uwadze, że zakłada on brak powtarzających się wartości w analizowanej próbie. Jest to duży problem w przypadku rozkładów dyskretnych, gdzie te wartości naturalnie będą się powtarzać. W związku z tym wprowadzimy nieznaczny szum, który sprawi, że wartości nie będą się powtarzać, a zarazem nie zmieni charakteru rozkładu. Jest to rozwiązanie podane w poście znajdującym się pod linkiem: https://discourse.julialang.org/t/kolmogorov-smirnov-test/89990/9 "
   ]
  },
  {
   "cell_type": "code",
   "execution_count": null,
   "metadata": {},
   "outputs": [],
   "source": [
    "ApproximateTwoSampleKSTest(\n",
    "    poisson_samples .+ rand(100_000) / 100,\n",
    "    rand(Poisson(poisson_param), 100_000) .+ rand(100_000) / 100\n",
    ")"
   ]
  },
  {
   "attachments": {},
   "cell_type": "markdown",
   "metadata": {},
   "source": [
    "Jak widać prawdopodobieństwo tego, że `poisson_samples` pochodzi z rozkładu Poissona potwierdza nam poprawność działania metody `accept_reject`."
   ]
  },
  {
   "attachments": {},
   "cell_type": "markdown",
   "metadata": {},
   "source": [
    "---  "
   ]
  },
  {
   "attachments": {},
   "cell_type": "markdown",
   "metadata": {},
   "source": [
    "**Zadanie 3**  \n",
    "\n",
    "Generowanie rozkładu normalnego z rozkładu wykładniczego metodą zigguratu."
   ]
  },
  {
   "cell_type": "code",
   "execution_count": null,
   "metadata": {},
   "outputs": [],
   "source": [
    "# Znajdź indeks i taki, że xᵢ < x <= xᵢ₊₁\n",
    "function findindex(x, interval)\n",
    "    i = 1\n",
    "    while x > interval[i] && i < length(interval)\n",
    "        i += 1\n",
    "    end\n",
    "    i - 1\n",
    "end"
   ]
  },
  {
   "cell_type": "code",
   "execution_count": null,
   "metadata": {},
   "outputs": [],
   "source": [
    "# Wygeneruj listę przedziałów [xᵢ, xᵢ₊₁] oraz listę ekstremów na tych przedziałach \n",
    "function steps(resolution :: Int)\n",
    "\n",
    "    # Ze względu na to, że gęstość |N(0, 1)| jest ściśle malejąca na swojej dziedzinie, to maksimum będzie się znajdować \n",
    "    # na początku przedziału a minimum na końcu przedziału \n",
    "\n",
    "    # Minimum z przedziału [xᵢ, xᵢ₊₁] jest maksimum z przedziału [xᵢ₊₁, xᵢ₊₂]\n",
    "\n",
    "    xs = LinRange(0, 5, resolution)\n",
    "\n",
    "    ys = 2 .* pdf.(Normal(0, 1), xs)\n",
    "    push!(ys, 0)\n",
    "\n",
    "    return (xs, ys)\n",
    "\n",
    "end"
   ]
  },
  {
   "cell_type": "code",
   "execution_count": null,
   "metadata": {},
   "outputs": [],
   "source": [
    "function ziggurat(N, intervals, extr)\n",
    "\n",
    "    samples = Vector{Float64}(undef, N)\n",
    "    counts = 0\n",
    "\n",
    "    for i = 1:N\n",
    "        \n",
    "        x = 0.\n",
    "        # Zmienne do zliczania częstości wywołań gęstości rozkładu normalnego \n",
    "        counter = 0      \n",
    "        num_of_runs = 0\n",
    "        \n",
    "        while true \n",
    "         \n",
    "            x = rand(Exponential(1))\n",
    "            y = sqrt(2ℯ/π) * rand() * pdf(Exponential(1), x)\n",
    "            \n",
    "            idx = findindex(x, intervals)\n",
    "            num_of_runs += 1\n",
    "            \n",
    "            # Jeśli y jest większy niż maksimum na danym przedziale, to odrzucamy wylosowaną wartość.\n",
    "            if y > extr[idx] \n",
    "                continue\n",
    "            end\n",
    "\n",
    "            # Jeśli mniejszy niż minimum to akceptujemy.\n",
    "            if y < extr[idx + 1]\n",
    "                break\n",
    "            end\n",
    "\n",
    "            # Tylko gdy oba powyższe warunki nie są spełnione to obliczamy gęstość rozkładu normalnego.\n",
    "            if y <= 2 * pdf(Normal(0, 1), x)\n",
    "                counter += 1\n",
    "                break\n",
    "            end\n",
    "\n",
    "        end\n",
    "\n",
    "        samples[i] = x\n",
    "        \n",
    "        # Częstość wywoływania gęstości rozkładu normalnego.\n",
    "        counts += counter / num_of_runs\n",
    "    end\n",
    "\n",
    "    return (samples, counts/N)\n",
    "\n",
    "end"
   ]
  },
  {
   "cell_type": "code",
   "execution_count": null,
   "metadata": {},
   "outputs": [],
   "source": [
    "# Tradycyjna metoda akceptacji-odrzucenia\n",
    "function basic_accept_reject(N)\n",
    "    \n",
    "    result = Vector{Float64}(undef, N)\n",
    "\n",
    "    for i in 1:N\n",
    "        x = rand(Exponential(1))\n",
    "        y = sqrt(2ℯ/π) * rand() * pdf(Exponential(1), x)\n",
    "        while y > 2 * pdf(Normal(0, 1), x)\n",
    "            x = rand(Exponential(1))\n",
    "            y = sqrt(2ℯ/π) * rand() * pdf(Exponential(1), x)\n",
    "        end\n",
    "        result[i] = x\n",
    "    end\n",
    "\n",
    "    return result\n",
    "end"
   ]
  },
  {
   "attachments": {},
   "cell_type": "markdown",
   "metadata": {},
   "source": [
    "Sprawdzimy teraz dla jakiej ilości przedziałów metoda zigguratu działa najwydajniej czasowo."
   ]
  },
  {
   "cell_type": "code",
   "execution_count": null,
   "metadata": {},
   "outputs": [],
   "source": [
    "times = Vector{Float64}(undef, 50)\n",
    "number_of_runs = 5\n",
    "\n",
    "for num_of_steps in 2:51\n",
    "    \n",
    "    total_time = 0\n",
    "    intervals, extr = steps(num_of_steps)\n",
    "\n",
    "    for run in 1:number_of_runs\n",
    "        \n",
    "        time = time_ns()\n",
    "        ziggurat(10_000, intervals, extr)\n",
    "        time = time_ns() - time \n",
    "        total_time += time\n",
    "\n",
    "    end\n",
    "\n",
    "    # Średni czas obliczenia funkcji ziggurat\n",
    "    times[num_of_steps - 1] = total_time/number_of_runs\n",
    "\n",
    "end"
   ]
  },
  {
   "cell_type": "code",
   "execution_count": null,
   "metadata": {},
   "outputs": [],
   "source": [
    "scatter(times[2:end])"
   ]
  },
  {
   "cell_type": "code",
   "execution_count": null,
   "metadata": {},
   "outputs": [],
   "source": [
    "intervals, extr = steps(30)"
   ]
  },
  {
   "cell_type": "code",
   "execution_count": null,
   "metadata": {},
   "outputs": [],
   "source": [
    "@benchmark ziggurat(1_000_000, intervals, extr)"
   ]
  },
  {
   "cell_type": "code",
   "execution_count": null,
   "metadata": {},
   "outputs": [],
   "source": [
    "@benchmark basic_accept_reject(1_000_000)"
   ]
  },
  {
   "attachments": {},
   "cell_type": "markdown",
   "metadata": {},
   "source": [
    "Zwróćmy teraz uwagę na fakt, że funkcja `ziggurat` generuje wartości z rozkładu $|N(0, 1)|$. Rozkład $ N(0, 1)$ uzyskamy łącząc uzyskany wektor z wektorem do niego przeciwnym. Tym samym w celu uzyskania próby o długości $ n$ wystarczy wysymulować tylko próbę o długości $\\frac{n}{2}$.  "
   ]
  },
  {
   "cell_type": "code",
   "execution_count": null,
   "metadata": {},
   "outputs": [],
   "source": [
    "@benchmark ziggurat(500_000, intervals, extr)"
   ]
  },
  {
   "cell_type": "code",
   "execution_count": null,
   "metadata": {},
   "outputs": [],
   "source": [
    "abs_norm_samples, mean_pdf_calls_rate = ziggurat(50_000, intervals, extr)\n",
    "print(\"Średnia częstość wywołań gęstości rozkładu normalnego: $(mean_pdf_calls_rate)\")"
   ]
  },
  {
   "cell_type": "code",
   "execution_count": null,
   "metadata": {},
   "outputs": [],
   "source": [
    "norm_samples = vcat(abs_norm_samples, -abs_norm_samples)\n",
    "xs = LinRange(-3, 3, 60)\n",
    "\n",
    "histogram(norm_samples, normalize=:pdf, label=\"Rozkład wartości wygenerowanych metodą zigguratu\", color=:dodgerblue1, legend=:outerbottom)\n",
    "plot!(xs, pdf.(Normal(0, 1), xs), label=\"Gęstość standardowego rozkładu normalnego\", lw=4, color=:orange)"
   ]
  },
  {
   "cell_type": "code",
   "execution_count": null,
   "metadata": {},
   "outputs": [],
   "source": [
    "ExactOneSampleKSTest(norm_samples, Normal(0, 1))"
   ]
  },
  {
   "cell_type": "code",
   "execution_count": null,
   "metadata": {},
   "outputs": [],
   "source": [
    "kern = kde(norm_samples)\n",
    "plot(xs, pdf.(Normal(0, 1), xs), label=\"Gęstość standardowego rozkładu normalnego\", color=:orange, legend=:outerbottom)\n",
    "plot!(xs, pdf(kern, xs), label=\"Jądrowy estymator gęstości\", color=:green3)"
   ]
  },
  {
   "attachments": {},
   "cell_type": "markdown",
   "metadata": {},
   "source": [
    "---"
   ]
  },
  {
   "attachments": {},
   "cell_type": "markdown",
   "metadata": {},
   "source": [
    "**Zadanie 4**   \n",
    "\n",
    "Porównanie różnych metod generowania rozkładu normalnego"
   ]
  },
  {
   "cell_type": "code",
   "execution_count": null,
   "metadata": {},
   "outputs": [],
   "source": [
    "SAMPLESIZE = 100_000"
   ]
  },
  {
   "attachments": {},
   "cell_type": "markdown",
   "metadata": {},
   "source": [
    "* Metoda wbudowana `randn`"
   ]
  },
  {
   "cell_type": "code",
   "execution_count": null,
   "metadata": {},
   "outputs": [],
   "source": [
    "@benchmark randn(SAMPLESIZE)"
   ]
  },
  {
   "cell_type": "code",
   "execution_count": null,
   "metadata": {},
   "outputs": [],
   "source": [
    "builtin_sample = randn(SAMPLESIZE)\n",
    "ExactOneSampleKSTest(builtin_sample, Normal(0, 1))"
   ]
  },
  {
   "attachments": {},
   "cell_type": "markdown",
   "metadata": {},
   "source": [
    "* Metoda odwrotnej dystrybuanty "
   ]
  },
  {
   "attachments": {},
   "cell_type": "markdown",
   "metadata": {},
   "source": [
    "Dystrybuanta standardowego rozkładu normalnego $\\Phi$ zadana jest wzorem\n",
    "\n",
    "$$\\Phi(x) = \\frac{1}{2}\\,\\mathit{erfc}(-\\frac{x}{\\sqrt{2}})$$ \n",
    "\n",
    "gdzie $\\mathit{erfc}(x) = \\frac{2}{\\sqrt{\\pi}}\\,\\int_x^\\infty e^{-t^2}\\,dt$.  \n",
    "W związku z tym \n",
    "\n",
    "$$\\Phi^{-1}(x) = -\\sqrt{2}\\,\\mathit{erfc}^{-1}(2x)$$"
   ]
  },
  {
   "attachments": {},
   "cell_type": "markdown",
   "metadata": {},
   "source": [
    "Do obliczenia odwrotnej dystrybuanty standardowego rozkładu normalnego skorzystamy z funkcji `erfcinv` z pakietu `SpecialFunctions`."
   ]
  },
  {
   "cell_type": "code",
   "execution_count": null,
   "metadata": {},
   "outputs": [],
   "source": [
    "inversecdf(x) = -sqrt(2) * erfcinv(2x)"
   ]
  },
  {
   "cell_type": "code",
   "execution_count": null,
   "metadata": {},
   "outputs": [],
   "source": [
    "function inv(size)\n",
    "    return inversecdf.(rand(size))\n",
    "end"
   ]
  },
  {
   "cell_type": "code",
   "execution_count": null,
   "metadata": {},
   "outputs": [],
   "source": [
    "@benchmark inv(SAMPLESIZE)"
   ]
  },
  {
   "cell_type": "code",
   "execution_count": null,
   "metadata": {},
   "outputs": [],
   "source": [
    "inversecdf_samples = inv(SAMPLESIZE)\n",
    "ExactOneSampleKSTest(inversecdf_samples, Normal(0, 1))"
   ]
  },
  {
   "attachments": {},
   "cell_type": "markdown",
   "metadata": {},
   "source": [
    "* Metoda Boxa - Mullera "
   ]
  },
  {
   "attachments": {},
   "cell_type": "markdown",
   "metadata": {},
   "source": [
    "W tej metodzie skorzystamy z następującego faktu.  \n",
    "$$\\frac{1}{2}R^2 \\sim \\mathit{Exp}(1) \\wedge \\Theta \\sim U(0, 2\\pi) \\implies R\\sin(\\Theta) \\sim N(0, 1)$$"
   ]
  },
  {
   "cell_type": "code",
   "execution_count": null,
   "metadata": {},
   "outputs": [],
   "source": [
    "function boxmuller(size)\n",
    "\n",
    "    θ = 2π .* rand(size)\n",
    "    R = sqrt.(2 .* rand(Exponential(1), size))\n",
    "\n",
    "    return R .* sin.(θ)\n",
    "end"
   ]
  },
  {
   "cell_type": "code",
   "execution_count": null,
   "metadata": {},
   "outputs": [],
   "source": [
    "@benchmark boxmuller(SAMPLESIZE)"
   ]
  },
  {
   "cell_type": "code",
   "execution_count": null,
   "metadata": {},
   "outputs": [],
   "source": [
    "boxmuller_samples = boxmuller(SAMPLESIZE)\n",
    "ExactOneSampleKSTest(boxmuller_samples, Normal(0, 1))"
   ]
  },
  {
   "attachments": {},
   "cell_type": "markdown",
   "metadata": {},
   "source": [
    "* Metoda Marsaglii\n",
    "\n",
    "Metoda Marsaglii jest modyfikacją algorytmu Boxa-Mullera, w której zamiast obliczać wartość sinusa wbudowaną funkcją `sin`, generujemy punkt z koła jednostkowego i używamy jego współrzędnych.  "
   ]
  },
  {
   "cell_type": "code",
   "execution_count": null,
   "metadata": {},
   "outputs": [],
   "source": [
    "\n",
    "function marsaglia(size)\n",
    "\n",
    "    result = Vector{Float64}(undef, size)\n",
    "\n",
    "    for i in 1:size\n",
    "        \n",
    "        # Punkt z rozkładu jednostajnego na kwadracie [-1, 1]²\n",
    "        x = 2 * rand() - 1\n",
    "        y = 2 * rand() - 1\n",
    "\n",
    "        # Powtarzaj dopóki wylosowany punkt nie znajduje się wewnątrz koła.\n",
    "        while x^2 + y^2 > 1\n",
    "            x = 2 * rand() - 1\n",
    "            y = 2 * rand() - 1\n",
    "        end\n",
    "\n",
    "        s = x^2 + y^2\n",
    "\n",
    "        result[i] = x * sqrt(-2log(s) / s)\n",
    "    end\n",
    "\n",
    "    return result\n",
    "end"
   ]
  },
  {
   "cell_type": "code",
   "execution_count": null,
   "metadata": {},
   "outputs": [],
   "source": [
    "@benchmark marsaglia(SAMPLESIZE)"
   ]
  },
  {
   "attachments": {},
   "cell_type": "markdown",
   "metadata": {},
   "source": [
    "Porównamy teraz wydajność czterech przedstawionych wyżej metod"
   ]
  },
  {
   "cell_type": "code",
   "execution_count": null,
   "metadata": {},
   "outputs": [],
   "source": [
    "function compare_eff(size)\n",
    "    \n",
    "    suite = BenchmarkGroup()\n",
    "    for f in (boxmuller, marsaglia, randn, inv)\n",
    "        suite[string(f)] = @benchmarkable $(f)($size)\n",
    "    end\n",
    "    tune!(suite)\n",
    "    run(suite, samples=50)\n",
    "\n",
    "end"
   ]
  },
  {
   "cell_type": "code",
   "execution_count": null,
   "metadata": {},
   "outputs": [],
   "source": [
    "bench_results = compare_eff(SAMPLESIZE)"
   ]
  },
  {
   "cell_type": "code",
   "execution_count": null,
   "metadata": {},
   "outputs": [],
   "source": [
    "plot(bench_results)"
   ]
  },
  {
   "attachments": {},
   "cell_type": "markdown",
   "metadata": {},
   "source": [
    "---"
   ]
  },
  {
   "attachments": {},
   "cell_type": "markdown",
   "metadata": {},
   "source": [
    "**Zadanie 5** \n",
    "\n",
    "Zależność zmiennych losowych. \n",
    "\n"
   ]
  },
  {
   "attachments": {},
   "cell_type": "markdown",
   "metadata": {},
   "source": [
    "Aby wygenerować dwie zależne zmienne losowe skorzystamy z dwywymiarowego rozkładu normalnego o danej macierzy kowariancji. "
   ]
  },
  {
   "attachments": {},
   "cell_type": "markdown",
   "metadata": {},
   "source": [
    "Niech $\\Sigma$ będzie symetryczną macierzą 2x2, a $X$ i $Y$ niezależnymi zmiennymi losowymi ze standardowego rozkładu normalnego. $\\Sigma$ da się rozpisać jako iloczyn macierzy górno i dolno-trójkątnych $\\Sigma = A\\,A^T$. Wtedy $(A\\,X,\\; A\\,Y)$ pochodzi z dwuwymiarowego rozkładu normalnego o macierzy kowariancji $\\Sigma$."
   ]
  },
  {
   "cell_type": "code",
   "execution_count": null,
   "metadata": {},
   "outputs": [],
   "source": [
    "function multivariate_normal(size :: Int, dim :: Int, covariance_matrix :: Matrix = [1 0; 0 1], means_vector :: Vector = [0, 0])\n",
    "\n",
    "    result = Matrix{Float64}(undef, size, dim)\n",
    "\n",
    "    # Rozkład macierzy kowariancji \n",
    "    A = cholesky(covariance_matrix).L\n",
    "    \n",
    "    for i = 1:size\n",
    "        result[i, :] = A * randn(dim) + means_vector\n",
    "    end\n",
    "\n",
    "    return result\n",
    "\n",
    "end"
   ]
  },
  {
   "cell_type": "code",
   "execution_count": null,
   "metadata": {},
   "outputs": [],
   "source": [
    "not_cor_sample = multivariate_normal(100_000, 2)\n",
    "histogram2d(not_cor_sample[:, 1], not_cor_sample[:, 2], normalize=:pdf, aspect_ratio=1, title=\"Nieskorelowany, dwuwymiarowy,\\n standardowy rozkład normalny\")"
   ]
  },
  {
   "cell_type": "code",
   "execution_count": null,
   "metadata": {},
   "outputs": [],
   "source": [
    "high_pos_cor = [4 3.6; 3.6 4]\n",
    "high_pos_sample = multivariate_normal(100_000, 2, high_pos_cor)\n",
    "histogram2d(high_pos_sample[:, 1], high_pos_sample[:, 2], normalize=:pdf, aspect_ratio=1, title=\"Zmienne o silnej, dodatniej korelacji\")"
   ]
  },
  {
   "cell_type": "code",
   "execution_count": null,
   "metadata": {},
   "outputs": [],
   "source": [
    "low_neg_cor = [1 -0.2; -0.2 1]\n",
    "low_neg_sample = multivariate_normal(100_000, 2, low_neg_cor)\n",
    "histogram2d(low_neg_sample[:, 1], low_neg_sample[:, 2], normalize=:pdf, aspect_ratio=1, title=\"Zmienne o słabej, ujemnej korelacji\")"
   ]
  },
  {
   "attachments": {},
   "cell_type": "markdown",
   "metadata": {},
   "source": [
    "* Zmienne nieskorelowane $\\rho_{XY} = 0$"
   ]
  },
  {
   "cell_type": "code",
   "execution_count": null,
   "metadata": {},
   "outputs": [],
   "source": [
    "not_cor_test_sample = multivariate_normal(100_000, 2, [4 0; 0 9], [-2, 3])\n",
    "X1 = not_cor_test_sample[:, 1]  # X z rozkładu N(-2, 2)\n",
    "Y1 = not_cor_test_sample[:, 2]  # Y z rozkładu N(3, 3)"
   ]
  },
  {
   "cell_type": "code",
   "execution_count": null,
   "metadata": {},
   "outputs": [],
   "source": [
    "h1 = histogram(X1, normalize=:pdf, color=:dodgerblue1, label=\"Rozkład zmiennej X\", legend=:outerbottom)\n",
    "h2 = histogram(Y1, normalize=:pdf, color=:orange, label=\"Rozkład zmiennej Y\", legend=:outerbottom)\n",
    "plot(h1, h2, link=:x, layout=@layout grid(2, 1))\n"
   ]
  },
  {
   "cell_type": "code",
   "execution_count": null,
   "metadata": {},
   "outputs": [],
   "source": [
    "Z1 = X1 .+ Y1\n",
    "h3 = histogram(X1 .+ Y1, normalize=:pdf, color=:green3, label=\"Rozkład zmiennej X + Y\", legend=:outerbottom)\n",
    "plot(h1, h2, h3, layout=(@layout grid(3, 1)), link=:x)"
   ]
  },
  {
   "attachments": {},
   "cell_type": "markdown",
   "metadata": {},
   "source": [
    "Jak widzimy $X + Y$ też wydaje się mieć rozkład normalny. Jesteśmy w stanie wyliczyć wartość oczekiwaną ze wzoru \n",
    "\n",
    "$$E(X \\pm Y) = E(X) \\pm E(Y)$$\n",
    "dla dowolnych zmiennych losowych $X$ i $Y$.\n",
    "\n",
    "Odchylenie standardowe obliczymy zaś ze wzoru \n",
    "\n",
    "$$D^2(X \\pm Y) = D^2(X) + D^2(Y)$$ \n",
    "dla nieskorelowanych zmiennych losowych.\n",
    "\n",
    "Z tego wynika, że \n",
    "\n",
    "$$D(X \\pm Y) = \\sqrt{D^2(X) + D^2(Y)}$$"
   ]
  },
  {
   "cell_type": "code",
   "execution_count": null,
   "metadata": {},
   "outputs": [],
   "source": [
    "histogram(Z1, normalize=:pdf, color=:dodgerblue1, label=\"Rozkład zmiennej X + Y\", legend=:outerbottom)\n",
    "plot!(\n",
    "    LinRange(mean(Z1) - 3std(Z1), mean(Z1) + 3std(Z1), 100),\n",
    "    pdf.(Normal(mean(X1) + mean(Y1), sqrt(var(X1) + var(Y1))), LinRange(mean(Z1) - 3std(Z1), mean(Z1) + 3std(Z1), 100)),\n",
    "    color=:orange,\n",
    "    lw=4,\n",
    "    label=\"Gęstość rozkładu N(μₓ + μ, (σₓ + σ)^0.5)\"\n",
    ")"
   ]
  },
  {
   "attachments": {},
   "cell_type": "markdown",
   "metadata": {},
   "source": [
    "Testem Kołmogorowa-Smirnova sprawdzimy, czy rzeczywiście \n",
    "\n",
    "$$X + Y \\sim N\\left(\\mu_X + \\mu_Y, \\sqrt{\\sigma_X^2 + \\sigma_Y^2}\\right)"
   ]
  },
  {
   "cell_type": "code",
   "execution_count": null,
   "metadata": {},
   "outputs": [],
   "source": [
    "ExactOneSampleKSTest(Z1, Normal(mean(X1) + mean(Y1), sqrt(var(X1) + var(Y1))))"
   ]
  },
  {
   "attachments": {},
   "cell_type": "markdown",
   "metadata": {},
   "source": [
    "Test potwierdza nasze przypuszczenia. "
   ]
  },
  {
   "attachments": {},
   "cell_type": "markdown",
   "metadata": {},
   "source": [
    "Analogiczne rozumowanie stosujemy do różnicy $X - Y$."
   ]
  },
  {
   "cell_type": "code",
   "execution_count": null,
   "metadata": {},
   "outputs": [],
   "source": [
    "W1 = X1 .- Y1\n",
    "h4 = histogram(W1, normalize=:pdf, color=:green3, label=\"Rozkład zmiennej X - Y\", legend=:outerbottom)\n",
    "plot(h1, h2, h4, link=:x, layout=@layout grid(3, 1))"
   ]
  },
  {
   "cell_type": "code",
   "execution_count": null,
   "metadata": {},
   "outputs": [],
   "source": [
    "histogram(W1, normalize=:pdf, color=:dodgerblue1, label=\"Rozkład zmiennej X - Y\", legend=:outerbottom)\n",
    "plot!(\n",
    "    LinRange(mean(W1) - 3std(W1), mean(W1) + 3std(W1), 100),\n",
    "    pdf.(Normal(mean(X1) - mean(Y1), sqrt(var(X1) + var(Y1))),\n",
    "    LinRange(mean(W1) - 3std(W1), mean(W1) + 3std(W1), 100)),\n",
    "    color=:orange,\n",
    "    lw=4,\n",
    "    label=\"Gęstość rozkładu N(μₓ + μ, (σₓ + σ)^0.5)\"\n",
    ")\n"
   ]
  },
  {
   "cell_type": "code",
   "execution_count": null,
   "metadata": {},
   "outputs": [],
   "source": [
    "ExactOneSampleKSTest(W1, Normal(mean(X1) - mean(Y1), sqrt(var(X1) + var(Y1))))"
   ]
  },
  {
   "attachments": {},
   "cell_type": "markdown",
   "metadata": {},
   "source": [
    "W przypadku nieskorelowanych zmiennych ze standardowego rozkładu normalnego, suma $X + Y$ ma rozkład $\\Chi^2(2)$. "
   ]
  },
  {
   "cell_type": "code",
   "execution_count": null,
   "metadata": {},
   "outputs": [],
   "source": [
    "R1 = randn(100_000).^2 + randn(100_000).^2 \n",
    "histogram(R1, normalize=:pdf, color=:dodgerblue1, label=\"Rozkład zmiennej X² + Y²\", legend=:outerbottom)\n",
    "plot!(\n",
    "    LinRange(0, 10, 100),\n",
    "    pdf.(Chisq(2), LinRange(0, 10, 100)),\n",
    "    label=\"Gęstość rozkładu Χ²(2)\",\n",
    "    lw = 4,\n",
    "    color=:orange\n",
    ")"
   ]
  },
  {
   "attachments": {},
   "cell_type": "markdown",
   "metadata": {},
   "source": [
    "* Zmienne o niezerowej korelacji"
   ]
  },
  {
   "attachments": {},
   "cell_type": "markdown",
   "metadata": {},
   "source": [
    "Wygenerujemy teraz silnie, dodatnio skorelowane zmienne: \n",
    "$$X \\sim N(3, 2)$$\n",
    "$$Y \\sim N(-2, 4)$$\n",
    "$$\\rho_{XY} = 0.9$$"
   ]
  },
  {
   "cell_type": "code",
   "execution_count": null,
   "metadata": {},
   "outputs": [],
   "source": [
    "strong_pos_sample = multivariate_normal(100_000, 2, [4 7.2; 7.2 16], [3, -2])\n",
    "X2 = strong_pos_sample[:, 1]\n",
    "Y2 = strong_pos_sample[:, 2]"
   ]
  },
  {
   "cell_type": "code",
   "execution_count": null,
   "metadata": {},
   "outputs": [],
   "source": [
    "h5 = histogram(X2, normalize=:pdf, color=:dodgerblue1, label=\"Rozkład zmiennej X\", legend=:outerbottom)\n",
    "h6 = histogram(Y2, normalize=:pdf, color=:orange, label=\"Rozkład zmiennej Y\", legend=:outerbottom)\n",
    "\n",
    "plot(h5, h6, link=:x, layout=@layout grid(2, 1))"
   ]
  },
  {
   "cell_type": "code",
   "execution_count": null,
   "metadata": {},
   "outputs": [],
   "source": [
    "Z2 = X2 .+ Y2 \n",
    "h7 = histogram(X2 .+ Y2, normalize=:pdf, color=:green3, label=\"Rozkład zmiennej X + Y\", legend=:outerbottom)\n",
    "plot(h5, h6, h7, layout=(@layout grid(3, 1)), link=:x)"
   ]
  },
  {
   "cell_type": "code",
   "execution_count": null,
   "metadata": {},
   "outputs": [],
   "source": [
    "histogram(Z2, normalize=:pdf, color=:dodgerblue1, label=\"Rozkład zmiennej X + Y\", legend=:outerbottom)\n",
    "plot!(\n",
    "    LinRange(mean(Z2) - 3std(Z2), mean(Z2) + 3std(Z2), 100),\n",
    "    pdf.(Normal(mean(X2) + mean(Y2), sqrt(var(X2) + var(Y2))), LinRange(mean(Z2) - 3std(Z2), mean(Z2) + 3std(Z2), 100)),\n",
    "    color=:orange,\n",
    "    lw=4,\n",
    "    label=\"Gęstość rozkładu N(μₓ + μ, (σₓ² + σ²)^0.5)\"\n",
    ")"
   ]
  },
  {
   "attachments": {},
   "cell_type": "markdown",
   "metadata": {},
   "source": [
    "Patrząc na histogram można przypuszczać, że suma X + Y nadal pochodzi z rozkładu normalnego, ale źle dobrane jest odchylenie standardowe. Przeporwadzimy test Jarque-Bera, żeby sprawdzić, czy X + Y nadal ma rozkład normalny."
   ]
  },
  {
   "cell_type": "code",
   "execution_count": null,
   "metadata": {},
   "outputs": [],
   "source": [
    "JarqueBeraTest(Z2)"
   ]
  },
  {
   "attachments": {},
   "cell_type": "markdown",
   "metadata": {},
   "source": [
    "Jak widać z powyższego testu suma skorelowanych zmiennych losowych z rozkładu normalnego też pochodzi z rozkładu normalnego, ale nie zachodzą już wzory na sumowanie się wariancji. "
   ]
  },
  {
   "attachments": {},
   "cell_type": "markdown",
   "metadata": {},
   "source": [
    "Możemy skorzystać z bardziej ogólnego wzoru, który nie zakłada nieskorelowania.\n",
    "\n",
    "$$D^2(X \\pm Y) = D^2X + D^2Y \\pm 2\\mathit{Cov}(X, Y)$$"
   ]
  },
  {
   "cell_type": "code",
   "execution_count": null,
   "metadata": {},
   "outputs": [],
   "source": [
    "histogram(Z2, normalize=:pdf, color=:dodgerblue1, label=\"Rozkład zmiennej X + Y\", legend=:outerbottom)\n",
    "plot!(\n",
    "    LinRange(mean(Z2) - 3std(Z2), mean(Z2) + 3std(Z2), 100),\n",
    "    pdf.(Normal(mean(X2) + mean(Y2), sqrt(var(X2) + var(Y2) + 2cov(X2, Y2))), LinRange(mean(Z2) - 3std(Z2), mean(Z2) + 3std(Z2), 100)),\n",
    "    color=:orange,\n",
    "    lw=4,\n",
    "    label=\"Gęstość rozkładu N(μₓ + μ, (σₓ² + σ² + 2Cov(X,Y))^0.5)\"\n",
    ")"
   ]
  },
  {
   "attachments": {},
   "cell_type": "markdown",
   "metadata": {},
   "source": [
    "Z powyższego wzoru widać, że dla dodatnio skorelowanych zmiennych $X$ i $Y$ czym większa ich kowariancja, tym większe będzie odchylenie standardowe ich sumy. Odwrotnie się dzieje dla różnicy $X - Y$.   \n",
    "Gdy $X$ i $Y$ są ujemnie skorelowane ($\\mathit{Cov}(X,Y) < 0$), większa (co do modułu) kowariancja zmniejsza odchylenie standardowe sumy, zaś zwiększa różnicy."
   ]
  },
  {
   "attachments": {},
   "cell_type": "markdown",
   "metadata": {},
   "source": [
    "Teraz sprawdzimy jak skorelowanie wpływa na rozkład $X^2 + Y^2$, gdzie $X,Y \\sim N(0, 1)$."
   ]
  },
  {
   "cell_type": "code",
   "execution_count": null,
   "metadata": {},
   "outputs": [],
   "source": [
    "anim = @animate for rho in 0:0.05:0.95\n",
    "    \n",
    "    pos_sample = multivariate_normal(100_000, 2, [1 rho; rho 1], [0, 0])\n",
    "    neg_sample = multivariate_normal(100_000, 2, [1 -rho; -rho 1], [0, 0])\n",
    "\n",
    "    X_pos = pos_sample[:, 1]\n",
    "    Y_pos = pos_sample[:, 2]\n",
    "\n",
    "    X_neg = neg_sample[:, 1]\n",
    "    Y_neg = neg_sample[:, 2]\n",
    "\n",
    "    h1 = histogram(\n",
    "        X_pos.^2 .+ Y_pos.^2,\n",
    "        normalize=:pdf,\n",
    "        color=:dodgerblue1,\n",
    "        xlims=(0, 3),\n",
    "        ylims=(0, 1.3),\n",
    "        label=\"Rozkład X² + Y²\",\n",
    "        title=\"ρ = $rho\",\n",
    "        legend=:outerbottom\n",
    "    )\n",
    "\n",
    "    plot!(\n",
    "        LinRange(0, 3, 100),\n",
    "        pdf.(Chisq(2), LinRange(0, 3, 100)),\n",
    "        color=:green3,\n",
    "        lw=4,\n",
    "        label=\"Gęstość rozkładu Chi kwadrat\",\n",
    "    )\n",
    "\n",
    "    h2 = histogram(\n",
    "        X_neg.^2 .+ Y_neg.^2,\n",
    "        normalize=:pdf,\n",
    "        color=:orange,\n",
    "        xlims=(0, 3),\n",
    "        ylims=(0, 1.3),\n",
    "        label=\"Rozkład X² + Y²\",\n",
    "        title=\"ρ = $(-rho)\",\n",
    "        legend=:outerbottom\n",
    "    )\n",
    "\n",
    "    plot!(\n",
    "        LinRange(0, 3, 100),\n",
    "        pdf.(Chisq(2), LinRange(0, 3, 100)),\n",
    "        color=:green3,\n",
    "        lw=4,\n",
    "        label=\"Gęstość rozkładu Chi kwadrat\",\n",
    "    )\n",
    "\n",
    "    plot(h1, h2, link=:x, layout=@layout grid(2, 1))\n",
    "end\n",
    "\n",
    "gif(anim, fps=3)"
   ]
  },
  {
   "attachments": {},
   "cell_type": "markdown",
   "metadata": {},
   "source": [
    "Jak widać z powyższej animacji znak kowariancji pomiędzy dwoma zmiennymi nie ma znaczenia na rozkład $X^2 + Y^2$. Jednakże czym większy jej, tym większa skośność prawostronna rozkładu i coraz bardziej odbiega on od $\\Chi^2(2)$. Może się dziać tak, gdyż granicznym przypadkiem, gdy $\\rho_{XY} = 1$ jest równość $Y = aX$ (brak współczynnika $b$ wynika z tego, że obie zmienne pochodzą z rozkładu standardowego, a więc mają te same średnie). Tym samym $X^2 + Y^2 = (1 + a^2)X^2$. Możemy to zaobserwować na animacji, gdzie dla dużych wartości współczynnika korelacji rozkład zaczyna przypominać ten przedstawiony na wykresie poniżej. "
   ]
  },
  {
   "cell_type": "code",
   "execution_count": null,
   "metadata": {},
   "outputs": [],
   "source": [
    "histogram(randn(100_000).^2, normalize=:pdf, color=:dodgerblue1, legend=false, xlims=(0, 3))"
   ]
  }
 ],
 "metadata": {
  "kernelspec": {
   "display_name": "Julia 1.8.5",
   "language": "julia",
   "name": "julia-1.8"
  },
  "language_info": {
   "file_extension": ".jl",
   "mimetype": "application/julia",
   "name": "julia",
   "version": "1.8.5"
  },
  "orig_nbformat": 4
 },
 "nbformat": 4,
 "nbformat_minor": 2
}
